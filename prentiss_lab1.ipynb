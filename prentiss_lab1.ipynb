{
 "cells": [
  {
   "cell_type": "code",
   "execution_count": 312,
   "metadata": {},
   "outputs": [],
   "source": [
    "# part 1\n",
    "import geopandas as gpd\n",
    "import pandas as pd\n",
    "import fiona\n",
    "import numpy as np\n",
    "gdf = gpd.read_file('lab1.gpkg')\n",
    "fcfiles = []\n",
    "tablefiles = []\n",
    "listlayers = fiona.listlayers('lab1.gpkg')\n",
    "# Join each of the tables to the corresponding feature class.\n",
    "for item in listlayers:\n",
    "    if 'soil' in item:\n",
    "        fcfiles.append(item)\n",
    "    if 'muaggatt' in item:\n",
    "        tablefiles.append(item)\n",
    "table_list = []\n",
    "for item in fcfiles:\n",
    "    for elem in tablefiles:\n",
    "        if item[-3:] == elem[-3:]:\n",
    "            readfcfiles = gpd.read_file(r'E:\\FA20\\Programming\\lab 1\\lab1\\lab1.gpkg', layer = item)\n",
    "            readtablefiles = gpd.read_file(r'E:\\FA20\\Programming\\lab 1\\lab1\\lab1.gpkg', layer = elem)\n",
    "            merge1 = pd.merge(readfcfiles, readtablefiles, left_on='MUSYM', right_on='musym')\n",
    "            # Add a new field named mapunit to each joined feature class and calculate the values.\n",
    "            mapunit = item[-5:]\n",
    "            # Merge the 9 feature classes into a new feature class.\n",
    "            merge1['mapunit'] = mapunit\n",
    "            table_list.append(merge1)\n",
    "            combinedtable = pd.concat(table_list)\n",
    "# Intersect the merged feature class with the watershed boundary.\n",
    "combinedtable_df = pd.DataFrame(combinedtable)\n",
    "combinedtable_gdf = gpd.GeoDataFrame(combinedtable_df, geometry='geometry_x')\n",
    "watershed_gdf = gpd.read_file('lab1.gpkg', layer = 'wbdhu8_lab1')\n",
    "intersect = gpd.overlay(combinedtable_gdf, watershed_gdf, how='intersection')"
   ]
  },
  {
   "cell_type": "code",
   "execution_count": 314,
   "metadata": {},
   "outputs": [
    {
     "name": "stdout",
     "output_type": "stream",
     "text": [
      "1979 is the count for Big Thompson\n",
      "2073 is the count for St. Vrain\n"
     ]
    }
   ],
   "source": [
    "# part 2\n",
    "grouped = intersect.groupby('NAME').count()\n",
    "print(grouped['SPATIALVER']['Big Thompson'],\"is the count for Big Thompson\")\n",
    "print(grouped['SPATIALVER']['St. Vrain'],\"is the count for St. Vrain\")"
   ]
  },
  {
   "cell_type": "code",
   "execution_count": null,
   "metadata": {},
   "outputs": [],
   "source": []
  }
 ],
 "metadata": {
  "kernelspec": {
   "display_name": "Python 3",
   "language": "python",
   "name": "python3"
  },
  "language_info": {
   "codemirror_mode": {
    "name": "ipython",
    "version": 3
   },
   "file_extension": ".py",
   "mimetype": "text/x-python",
   "name": "python",
   "nbconvert_exporter": "python",
   "pygments_lexer": "ipython3",
   "version": "3.7.7"
  }
 },
 "nbformat": 4,
 "nbformat_minor": 4
}
